{
 "cells": [
  {
   "cell_type": "code",
   "execution_count": 2,
   "metadata": {},
   "outputs": [],
   "source": [
    "import requests\n",
    "from bs4 import BeautifulSoup\n",
    "import pandas as pd"
   ]
  },
  {
   "cell_type": "code",
   "execution_count": 3,
   "metadata": {},
   "outputs": [],
   "source": [
    "# list of the months\n",
    "months=[ \"january\", \"february\", \"march\", \"april\",\n",
    "    \"may\", \"june\", \"july\", \"august\",\n",
    "    \"september\", \"october\", \"november\", \"december\"\n",
    "]\n",
    "\n",
    "# list of the remaining counties\n",
    "counties = ['kisii','kisumu','kitui','kwale','laikipia', 'lamu','machakos',\n",
    "            'makueni','mandera','marsabit', 'meru','migori','mombasa','murang-a','nairobi-city','nakuru'] \n",
    "\n",
    "# base url\n",
    "base_url = \"https://weatherandclimate.com\"\n",
    "\n",
    "# intialize list of all years\n",
    "all_years=[]\n",
    "\n",
    "# iterate upto year 2020\n",
    "current_year=2010\n",
    "for i in range(10):\n",
    "    current_year+=1\n",
    "    all_years.append(current_year)\n",
    "\n",
    "# intialize and iterate through the counties,years and months\n",
    "# create a list of all the urls\n",
    "all_url=[]\n",
    "for county in counties:\n",
    "    for month in months:\n",
    "        for year in all_years:\n",
    "            url = f\"{base_url}/{county}/{month}{-year}\"\n",
    "            all_url.append(url)\n",
    "            "
   ]
  },
  {
   "cell_type": "code",
   "execution_count": 23,
   "metadata": {},
   "outputs": [],
   "source": [
    "all_data=pd.DataFrame()\n",
    "all_headers=[]\n",
    "\n",
    "\n",
    "\n",
    "for url in all_url:\n",
    "    response=requests.get(url)\n",
    "    data=response.text\n",
    "    soup=BeautifulSoup(data, \"html.parser\")\n",
    "    table=soup.find('table',class_='tb8')\n",
    "\n",
    "    # Extract headers \n",
    "    headers=table.find('tr')\n",
    "    header=[hd.get_text(strip=True) for hd in headers.find_all('th')]\n",
    "    all_headers.append(header)\n",
    "\n",
    "\n",
    "    temperature_data = {'Max Temperature': None,\n",
    "            'Avg Temperature': None,\n",
    "            'Min Temperature': None,\n",
    "            'Dew Point': None,\n",
    "            'Precipitation': None,\n",
    "            'Wind': None,\n",
    "            'Sea Level Pressure': None\n",
    "        }\n",
    "    \n",
    "    # Extract rows\n",
    "    for row in table.find_all('tr')[1:]:\n",
    "        rows = [rw.get_text(strip=True) for rw in row.find_all('td')]\n",
    "        if len(rows) > 1:  # Ensure there are enough cells in the row\n",
    "            label = rows[0]\n",
    "            value = rows[1]\n",
    "            if 'Max Temperature' in label:\n",
    "                temperature_data['Max Temperature'] = value\n",
    "            elif 'Avg Temperature' in label:\n",
    "                temperature_data['Avg Temperature'] = value\n",
    "            elif 'Min Temperature' in label:\n",
    "                temperature_data['Min Temperature'] = value\n",
    "            elif 'Dew Point' in label:\n",
    "                temperature_data['Dew Point'] = value\n",
    "            elif 'Precipitation' in label:\n",
    "                temperature_data['Precipitation'] = value\n",
    "            elif 'Wind' in label:\n",
    "                temperature_data['Wind'] = value\n",
    "            elif 'Sea Level Pressure' in label:\n",
    "                temperature_data['Sea Level Pressure'] = value\n",
    "\n",
    "        # Append the extracted data to the DataFrame\n",
    "        df = pd.DataFrame({\n",
    "            'County': [county],\n",
    "            'Month': [month.capitalize()],\n",
    "            'Year': [year],\n",
    "            'Max Temperature': [temperature_data.get('Max Temperature')],\n",
    "            'Avg Temperature': [temperature_data.get('Avg Temperature')],\n",
    "            'Min Temperature': [temperature_data.get('Min Temperature')],\n",
    "            'Dew Point': [temperature_data.get('Dew Point')],\n",
    "            'Precipitation': [temperature_data.get('Precipitation')],\n",
    "            'Wind': [temperature_data.get('Wind')],\n",
    "            'Sea Level Pressure': [temperature_data.get('Sea Level Pressure')]\n",
    "        })\n",
    "\n",
    "        all_data = pd.concat([all_data, df], ignore_index=True)\n",
    "        "
   ]
  },
  {
   "cell_type": "code",
   "execution_count": 25,
   "metadata": {},
   "outputs": [
    {
     "name": "stdout",
     "output_type": "stream",
     "text": [
      "<class 'pandas.core.frame.DataFrame'>\n",
      "RangeIndex: 24960 entries, 0 to 24959\n",
      "Data columns (total 10 columns):\n",
      " #   Column              Non-Null Count  Dtype \n",
      "---  ------              --------------  ----- \n",
      " 0   County              24960 non-null  object\n",
      " 1   Month               24960 non-null  object\n",
      " 2   Year                24960 non-null  int64 \n",
      " 3   Max Temperature     24960 non-null  object\n",
      " 4   Avg Temperature     23040 non-null  object\n",
      " 5   Min Temperature     21120 non-null  object\n",
      " 6   Dew Point           17280 non-null  object\n",
      " 7   Precipitation       13440 non-null  object\n",
      " 8   Wind                7680 non-null   object\n",
      " 9   Sea Level Pressure  1920 non-null   object\n",
      "dtypes: int64(1), object(9)\n",
      "memory usage: 1.9+ MB\n"
     ]
    }
   ],
   "source": [
    "all_data.info()"
   ]
  },
  {
   "cell_type": "code",
   "execution_count": 28,
   "metadata": {},
   "outputs": [],
   "source": [
    "all_data.to_csv(\"climate_data\")"
   ]
  }
 ],
 "metadata": {
  "kernelspec": {
   "display_name": "cmuenv",
   "language": "python",
   "name": "python3"
  },
  "language_info": {
   "codemirror_mode": {
    "name": "ipython",
    "version": 3
   },
   "file_extension": ".py",
   "mimetype": "text/x-python",
   "name": "python",
   "nbconvert_exporter": "python",
   "pygments_lexer": "ipython3",
   "version": "3.9.19"
  }
 },
 "nbformat": 4,
 "nbformat_minor": 2
}
